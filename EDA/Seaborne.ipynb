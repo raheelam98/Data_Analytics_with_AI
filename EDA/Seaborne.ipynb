{
  "nbformat": 4,
  "nbformat_minor": 0,
  "metadata": {
    "colab": {
      "provenance": [],
      "authorship_tag": "ABX9TyN24XDu/oneUXLMS/Wcb7U1",
      "include_colab_link": true
    },
    "kernelspec": {
      "name": "python3",
      "display_name": "Python 3"
    },
    "language_info": {
      "name": "python"
    }
  },
  "cells": [
    {
      "cell_type": "markdown",
      "metadata": {
        "id": "view-in-github",
        "colab_type": "text"
      },
      "source": [
        "<a href=\"https://colab.research.google.com/github/raheelam98/Data_Analytics_with_AI/blob/main/EDA/Seaborne.ipynb\" target=\"_parent\"><img src=\"https://colab.research.google.com/assets/colab-badge.svg\" alt=\"Open In Colab\"/></a>"
      ]
    },
    {
      "cell_type": "markdown",
      "source": [
        "seaborne is our latest Python library.\n",
        "\n",
        "In the Matplotlib, you will not find that ease, and that page, and that features, which we will see in the seaborne.\n",
        "\n",
        "So basically, guys, the matplotlib is the…\n",
        "You know, older version of the data visualization.\n",
        "\n",
        "The seaborne is our latest Python library.\n",
        "\n",
        "But there are, you know, both… they have the limitations and the advantages, both of them.\n",
        "In the Matplotlib, you will not find that ease, and that page, and that features, which we will see in the CBOR.\n",
        "\n",
        "And similarly, some drawbacks in the seaborne also there. We cannot make a subplots, we cannot make a pie chart in the seaborne.\n",
        "So, that's why, if we want to draw a pie chart, we have to use a…\n",
        "a matplotype library only.\n",
        "So, basically, in order to, you know, before we start with the matplotlib.\n",
        "I have a diagram for you.\n",
        "So, just look at this diagram. It is… the image is a little bit blurred, but I will explain.\n",
        "So, in the seaborne, guys, we have a, you know, 6 main categories.\n",
        "And there are subcategories.\n",
        "Okay.\n",
        "So, metrics is a main category.\n",
        "And in which we have the two types of map. We have a two type of graph, heat map and cluster map.\n",
        "And in the pandas, in the data cleaning, you have seen the example of a heat map.\n",
        "Okay? So it is not that all are new, you are familiar with many of them.\n",
        "The second category is relational graph.\n",
        "In the relational graph, we have a scatter plot and line diagram. Scatterplot and line plot.\n",
        "So you, you know, know properly what is a scatter plot, what is line plot.\n",
        "The third category is distribution.\n",
        "In distribution, we have histogram, KD plot, and rug plot.\n",
        "So you know what is the histogram?\n",
        "you will see what is KD plot and rug plot.\n",
        "The fourth category is categorical Plot.\n",
        "So, we have a bar plot, we have a count plot, we have a box plot.\n",
        "We have a violin plot, and we have a swarm plot.\n",
        "So I think you are only aware of the box plot.\n",
        "Because you guys can remember.\n",
        "The box plot, we have used, you know, the box plot we have used.\n",
        "When we are finding out the outlier.\n",
        "So we have used that SNS.Box plot, and also the distribution plot.\n",
        "So, you guys can remember, in the data cleaning part, we have used the box plot.\n",
        "And we will see the remaining plot, also BABAR plot, count plot, valid plot, and so on plot.\n",
        "The fifth one is regression plot.\n",
        "And the sixth one is multi-plot, in which we have a joint plot and pair plot.\n",
        "So, before, you know, starting with, let me explain you a very, interesting concept\n",
        "In the data visualization industry.\n",
        "Well, there are always, you know, guys, too…\n",
        "There are always two, you can say, Two levels are there.\n",
        "Always two levels are there, okay?\n",
        "Whenever you create any graph, So this box, okay.\n",
        "This box in the graph is created is called Figure Level.\n",
        "whatever the line diagram I'm drawing.\n",
        "is called Access Level.\n",
        "Okay.\n",
        "So, it is an access level.\n",
        "And it is a figure level.\n",
        "Okay, guys, understood, everyone.\n",
        "Because it is a very important concept, Which you should know.\n",
        "What is access level, and what is figure level.\n",
        "So, I think my drawing is very good, because I have Monola National Prize in drawing competition.\n",
        "So my calligraphy is very much high.\n",
        "I know I'm writing like a doctor. No one can understand.\n",
        "So, basically, Yeah, so come to our PPT.\n",
        "So here you can see that all the main category plots. These plots are figure level.\n",
        "Metrics, relational distribution, categorical Regression, and Metropolotlib.\n",
        "And all the subcategories, heat map, cluster map, stator plot, line plot, all these are access level function.\n",
        "Okay?\n",
        "Son… You can draw a…\n",
        "Line diagram directly, or you can draw a line diagram with the use of relational plot.\n",
        "As soon as we will perform the things, we will create the graphs.\n",
        "you will get more clarity what I want to convey.\n",
        "So you just have to remember two things in your mind.\n",
        "The first thing is figure level.\n",
        "And the second one is… Access level."
      ],
      "metadata": {
        "id": "PnkgS9zknQJZ"
      }
    },
    {
      "cell_type": "code",
      "execution_count": null,
      "metadata": {
        "id": "jyq0OHxcORkX"
      },
      "outputs": [],
      "source": []
    }
  ]
}